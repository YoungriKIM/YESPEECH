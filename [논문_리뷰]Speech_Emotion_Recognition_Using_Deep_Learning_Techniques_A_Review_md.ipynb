{
  "nbformat": 4,
  "nbformat_minor": 0,
  "metadata": {
    "colab": {
      "name": "[논문 리뷰]Speech Emotion Recognition Using Deep Learning Techniques: A Review.md",
      "provenance": [],
      "collapsed_sections": [],
      "authorship_tag": "ABX9TyNWnEbmOiiom2n/hdK8dzgU",
      "include_colab_link": true
    },
    "kernelspec": {
      "name": "python3",
      "display_name": "Python 3"
    },
    "language_info": {
      "name": "python"
    }
  },
  "cells": [
    {
      "cell_type": "markdown",
      "metadata": {
        "id": "view-in-github",
        "colab_type": "text"
      },
      "source": [
        "<a href=\"https://colab.research.google.com/github/YoungriKIM/YESPEECH/blob/main/%5B%EB%85%BC%EB%AC%B8_%EB%A6%AC%EB%B7%B0%5DSpeech_Emotion_Recognition_Using_Deep_Learning_Techniques_A_Review_md.ipynb\" target=\"_parent\"><img src=\"https://colab.research.google.com/assets/colab-badge.svg\" alt=\"Open In Colab\"/></a>"
      ]
    },
    {
      "cell_type": "markdown",
      "metadata": {
        "id": "LXDdji6kZaFu"
      },
      "source": [
        "## Speech Emotion Recognition Using Deep Learning Techniques: A Review\n",
        "---\n",
        "### ABSTRACT 초록\n",
        "\n",
        "감정 인식은 Human-Computer Interaction(HCI)에서 중요한 요소이다.  \n",
        "speech emotion recognition(SER) 분야에서 다양한 기술들이 사용되고 있는데 딥러닝 기술은 전통적인 SER 기술을 대체할 기술로 제안되었다.  \n",
        "이 논문은 음성 기반의 음성 인식에 대한 딥러닝 기술을 살펴보고 토의하는 내용이다.\n",
        "\n",
        "---\n",
        "### 1. INTRODUCTION 소개\n",
        "음성 인식은 HCI의 작은 분야에서 중요한 요소로 발전했다. 이 기술은 콜센터, 차량운행시스템, 의료 분야 등에서 기계와 음성을 통해 직접 소통할 수 있도록 한다. 그러나 이 기술이 학문연구를 벗어나 실제 생활에 사용되게 하기 위해선 많은 문제들이 있다.  \n",
        "인간의 감정을 분류하는 모델은 각기다른 감정으로 접근하는 것이 기본 접근법으로 간주된다.\n",
        "이것은 anger(분노), boredom(지루함), disgust(혐오),\n",
        "surprise(놀람), fear(두려움), joy(기쁨), happiness(행복), neutral(중립), sadness(슬픔)과 같은 다양한 감정을 사용한다.\n",
        "arousal, valence, potency를 변수로 사용하는 또 다른 중요한 모델은 3차원 연속공간이다.  \n",
        "(Arousal (or intensity) is the level of autonomic activation that an event creates, and ranges from calm (or low) to excited (or high). Valence, on the other hand, is the level of pleasantness that an event generates and is defined along a continuum from negative to positive.)  \n",
        "(Valence, or hedonic tone, is the affective quality referring to the intrinsic attractiveness/\"good\"-ness (positive valence) or averseness/\"bad\"-ness (negative valence) of an event, object, or situation.)  \n",
        "SER에 대한 접근 방식은 주로 특성 추출과 특성 분류로 알려진 두 단계로 구성이 된다.\n",
        "음성 처리 분야에서 특성 추출 단계는 주로 source-based excitation features, prosodic features, vocal traction factors, and other hybrid features를 사용한다.  \n",
        "두 번째 단계인 특성 분류에서는 선형 분류와 비선형 분류를 포함한다. 감정 인식을 위하 가장 일반적으로 사용하는 선형 분류는 Bayesian Networks(BN), Maximum Likelihood Principle(MLP), Support Vector Machine(SVM)이 있다.  \n",
        "speech signal은 non-stationary로 간주되기 때문에 비선형 분류가 SER에서 효과적으로 작동된다고 간주한다.  \n",
        "SER에 사용 될 수 있는 비선형 분류 모델은 다양한데, \n",
        " Gaussian Mixture Model(GMM), Hidden Markov Model(HMM)이 이에 속한다. 이 모델들은 기본 수준의 특성으로 파생된 정보를 분류하는데 널리 쓰이는 것들이다.  \n",
        "\n",
        "Linear Predictor Coefficients([LPC](https://sanghyu.tistory.com/41)),   \n",
        "Mel Energy-spectrum Dynamic Coefficients(MEDC)( MFCC의\n",
        "DELTA 특징이 MEDC이다.),   \n",
        "Mel-Frequency Cepstrum Coefficients (MFCC),  \n",
        "Perceptual Linear Prediction cepstrum coefficients ([PLP](https://www.koreascience.or.kr/article/JAKO201835372350671.pdf)) \n",
        "- [다양한 음성 특성 추출 기법 정리 논문](https://www.koreascience.or.kr/article/JAKO201835372350671.pdf)  \n",
        "\n",
        "와 같은 Energy-based feature는 음성에서 효과적인 감정 인식을 위해 종종 사용된다.  \n",
        "K-Nearest Neighbor (KNN), Principal Component Analysis (PCA) and Decision trees와 같은 다른 분류 모델도 감정 분류를 위해 적용된다.  \n",
        "    \n",
        "\n"
      ]
    }
  ]
}
{
  "nbformat": 4,
  "nbformat_minor": 0,
  "metadata": {
    "colab": {
      "name": "audio_slicing_02.ipynb",
      "provenance": [],
      "authorship_tag": "ABX9TyOza5GYXd592kpT4iZvAl/A",
      "include_colab_link": true
    },
    "kernelspec": {
      "name": "python3",
      "display_name": "Python 3"
    },
    "language_info": {
      "name": "python"
    }
  },
  "cells": [
    {
      "cell_type": "markdown",
      "metadata": {
        "id": "view-in-github",
        "colab_type": "text"
      },
      "source": [
        "<a href=\"https://colab.research.google.com/github/YoungriKIM/YESPEECH_study/blob/main/audio_slicing_02.ipynb\" target=\"_parent\"><img src=\"https://colab.research.google.com/assets/colab-badge.svg\" alt=\"Open In Colab\"/></a>"
      ]
    },
    {
      "cell_type": "markdown",
      "metadata": {
        "id": "QHi2jGnb_fnK"
      },
      "source": [
        "### 긴 오디오를 잘라서 손실없이 써보자.\n",
        "---\n",
        "1) pyAudioAnalysis  \n",
        "2) pydub  \n",
        "  \n",
        "이 파일은 2) pydub 에 해당함"
      ]
    },
    {
      "cell_type": "code",
      "metadata": {
        "id": "idh45f4t_cYo"
      },
      "source": [
        "# 레퍼런스\n",
        "# https://stackoverflow.com/questions/45526996/split-audio-files-using-silence-detection\n",
        "# https://stackoverflow.com/questions/36458214/split-speech-audio-file-on-words-in-python\n",
        "# https://github.com/zashin-AI/minsun/blob/master/wav/audio_split.py\n"
      ],
      "execution_count": null,
      "outputs": []
    }
  ]
}
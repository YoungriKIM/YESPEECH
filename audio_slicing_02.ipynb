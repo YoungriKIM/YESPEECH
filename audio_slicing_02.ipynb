{
  "nbformat": 4,
  "nbformat_minor": 0,
  "metadata": {
    "colab": {
      "name": "audio_slicing_02.ipynb",
      "provenance": [],
      "collapsed_sections": [],
      "mount_file_id": "1hLRL4omCbbOqViKLJqvzBHYrvDXO1Vxf",
      "authorship_tag": "ABX9TyOZ8hoeU1htSgJRsHjW5SJb",
      "include_colab_link": true
    },
    "kernelspec": {
      "name": "python3",
      "display_name": "Python 3"
    },
    "language_info": {
      "name": "python"
    }
  },
  "cells": [
    {
      "cell_type": "markdown",
      "metadata": {
        "id": "view-in-github",
        "colab_type": "text"
      },
      "source": [
        "<a href=\"https://colab.research.google.com/github/YoungriKIM/YESPEECH_study/blob/main/audio_slicing_02.ipynb\" target=\"_parent\"><img src=\"https://colab.research.google.com/assets/colab-badge.svg\" alt=\"Open In Colab\"/></a>"
      ]
    },
    {
      "cell_type": "markdown",
      "metadata": {
        "id": "QHi2jGnb_fnK"
      },
      "source": [
        "### 긴 오디오를 잘라서 손실없이 써보자.\n",
        "---\n",
        "1) pyAudioAnalysis  \n",
        "2) pydub  \n",
        "  \n",
        "이 파일은 2) pydub 에 해당함"
      ]
    },
    {
      "cell_type": "code",
      "metadata": {
        "id": "idh45f4t_cYo"
      },
      "source": [
        "# 레퍼런스\n",
        "# https://stackoverflow.com/questions/45526996/split-audio-files-using-silence-detection\n",
        "# https://stackoverflow.com/questions/36458214/split-speech-audio-file-on-words-in-python\n",
        "# https://github.com/zashin-AI/minsun/blob/master/wav/audio_split.py"
      ],
      "execution_count": 1,
      "outputs": []
    },
    {
      "cell_type": "code",
      "metadata": {
        "id": "Zpvskd9iSQZm"
      },
      "source": [
        "import librosa"
      ],
      "execution_count": 3,
      "outputs": []
    },
    {
      "cell_type": "code",
      "metadata": {
        "id": "gtG1roH8QtPx"
      },
      "source": [
        "datapath = '/content/drive/MyDrive/YESPEECH/SER/data/KESDy18'\n",
        "\n",
        "pathlist = librosa.util.find_files(datapath, ext=['wav'])"
      ],
      "execution_count": 8,
      "outputs": []
    },
    {
      "cell_type": "code",
      "metadata": {
        "id": "jbI41taTTYWb"
      },
      "source": [
        "# !pip install pydub\n",
        "import pydub\n",
        "from pydub import AudioSegment\n",
        "from pydub.silence import split_on_silence   \n",
        "# split_on_silence 참고 사이트,  https://github.com/jiaaro/pydub/issues/169  \n",
        "import IPython.display as ipd\n",
        "\n",
        "\n",
        "sound_file = AudioSegment.from_wav(pathlist[0])\n",
        "w_id = pathlist[0].split('/')[-1]\n",
        "\n",
        "# 가장 최소의 dbfs가 무엇인지\n",
        "# dbfs : 아날로그 db과는 다른 디지털에서의 db 단위, 0일 때가 최고 높은 레벨\n",
        "dbfs = sound_file.dBFS\n",
        "\n",
        "# silence 부분 마다 자른다. \n",
        "audio_chunks = split_on_silence(sound_file,  \n",
        "    min_silence_len= 200,\n",
        "    silence_thresh= dbfs - 16 ,\n",
        "    # keep_silence= 100\n",
        "    keep_silence= 0\n",
        "    )\n",
        "\n",
        "# silence 부분 마다 자른 거 wav로 저장\n",
        "for i, chunk in enumerate(audio_chunks):        \n",
        "    out_file = datapath + '/' + w_id + \"\\\\\" + w_id+ f\"_{i}.wav\"\n",
        "    # print (\"exporting\", out_file)\n",
        "    chunk.export(out_file, format=\"wav\")\n",
        "\n",
        "# 저장 완료\n",
        "# 저장 된 걸로 예측 확인하기"
      ],
      "execution_count": 22,
      "outputs": []
    }
  ]
}